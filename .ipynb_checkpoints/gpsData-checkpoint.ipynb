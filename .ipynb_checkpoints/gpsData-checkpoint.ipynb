{
 "cells": [
  {
   "cell_type": "markdown",
   "metadata": {},
   "source": [
    "# Theory/ Formulae for Computation"
   ]
  },
  {
   "cell_type": "markdown",
   "metadata": {},
   "source": []
  },
  {
   "cell_type": "markdown",
   "metadata": {},
   "source": [
    "# Code"
   ]
  },
  {
   "cell_type": "code",
   "execution_count": 15,
   "metadata": {},
   "outputs": [],
   "source": [
    "import geopy.distance\n",
    "import csv\n",
    "import math\n",
    "import pandas as pd\n",
    "import numpy as np\n",
    "import matplotlib.pyplot as plt\n",
    "\n",
    "from ipywidgets import interactive\n",
    "import ipywidgets as widgets"
   ]
  },
  {
   "cell_type": "code",
   "execution_count": 2,
   "metadata": {},
   "outputs": [],
   "source": [
    "# File name/path\n",
    "file = 'data.csv'"
   ]
  },
  {
   "cell_type": "code",
   "execution_count": 3,
   "metadata": {},
   "outputs": [],
   "source": [
    "# Function calculating distance between the two points uisng Pyhton Geopy library.\n",
    "# Input : A Correctly formatted Row of Data\n",
    "# Output : Distance \"as-the-crow-flies\" in meters\n",
    "\n",
    "def distance(row):\n",
    "    try:        \n",
    "        coord_A = (float(row['PointA_latitude']), float(row['PointA_longitude']))\n",
    "        coord_B = (float(row['PointB_latitude']), float(row['PointB_longitude']))\n",
    "        \n",
    "        return geopy.distance.distance(coord_A, coord_B).m\n",
    "            \n",
    "    except ValueError :\n",
    "        return "
   ]
  },
  {
   "cell_type": "code",
   "execution_count": 25,
   "metadata": {},
   "outputs": [],
   "source": [
    "# Open and parse the CSV file\n",
    "data = pd.read_csv(file)\n",
    "\n",
    "# Remove all lines with missing data\n",
    "data.dropna(inplace=True)\n",
    "\n",
    "#Create a new column \n",
    "data['Distance_m'] = data.apply(lambda row : distance(row), axis = 1)\n",
    "\n",
    "# Change Time data to Pandas' timestamp type to enable easier graphical representation\n",
    "data.rename(index=str, columns={\"YYYY/MM/DD Time\": \"YYYY-MM-DD Time\"}, inplace=True)\n",
    "data['YYYY-MM-DD Time'] = pd.to_datetime(data['YYYY-MM-DD Time'], format = \"%Y/%m/%d %H:%M\", errors='coerce')\n",
    "\n",
    "# Remove any errors that may have appeared in the processes\n",
    "data.dropna(inplace=True)"
   ]
  },
  {
   "cell_type": "code",
   "execution_count": 5,
   "metadata": {},
   "outputs": [
    {
     "data": {
      "text/plain": [
       "count       230.000000\n",
       "mean       1186.968314\n",
       "std        7924.561136\n",
       "min           0.000000\n",
       "25%          13.472705\n",
       "50%          43.910663\n",
       "75%         196.369759\n",
       "max      101428.742650\n",
       "Name: Distance_m, dtype: float64"
      ]
     },
     "execution_count": 5,
     "metadata": {},
     "output_type": "execute_result"
    }
   ],
   "source": [
    "# Basic information on our data\n",
    "data['Distance_m'].describe()"
   ]
  },
  {
   "cell_type": "markdown",
   "metadata": {},
   "source": [
    "# Plots and Data Analysis"
   ]
  },
  {
   "cell_type": "markdown",
   "metadata": {},
   "source": [
    "## Temporal Effect"
   ]
  },
  {
   "cell_type": "code",
   "execution_count": 6,
   "metadata": {},
   "outputs": [
    {
     "data": {
      "text/plain": [
       "<matplotlib.axes._subplots.AxesSubplot at 0x2925ebf67f0>"
      ]
     },
     "execution_count": 6,
     "metadata": {},
     "output_type": "execute_result"
    },
    {
     "data": {
      "image/png": "[encoded data removed]",
      "text/plain": [
       "<Figure size 432x288 with 1 Axes>"
      ]
     },
     "metadata": {},
     "output_type": "display_data"
    }
   ],
   "source": [
    "# Examining Error distribution in function of the date\n",
    "data.plot(x='YYYY-MM-DD Time', y='Distance_m', style='o', logy=True)"
   ]
  },
  {
   "cell_type": "markdown",
   "metadata": {},
   "source": [
    "## Visualisation of Distance Repartition"
   ]
  },
  {
   "cell_type": "markdown",
   "metadata": {},
   "source": [
    "### Mean and Quantiles"
   ]
  },
  {
   "cell_type": "code",
   "execution_count": 7,
   "metadata": {},
   "outputs": [
    {
     "data": {
      "text/plain": [
       "<matplotlib.axes._subplots.AxesSubplot at 0x2925f0e7f98>"
      ]
     },
     "execution_count": 7,
     "metadata": {},
     "output_type": "execute_result"
    },
    {
     "data": {
      "image/png": "[encoded data removed]",
      "text/plain": [
       "<Figure size 432x288 with 1 Axes>"
      ]
     },
     "metadata": {},
     "output_type": "display_data"
    }
   ],
   "source": [
    "# BoxPlot in logarithmic scale of distance obtained\n",
    "data.plot(y='Distance_m', kind='box', style='o', logy=True)"
   ]
  },
  {
   "cell_type": "markdown",
   "metadata": {},
   "source": []
  },
  {
   "cell_type": "markdown",
   "metadata": {},
   "source": [
    "### Distribution"
   ]
  },
  {
   "cell_type": "code",
   "execution_count": 8,
   "metadata": {},
   "outputs": [
    {
     "data": {
      "text/plain": [
       "<matplotlib.axes._subplots.AxesSubplot at 0x2925f1fbf98>"
      ]
     },
     "execution_count": 8,
     "metadata": {},
     "output_type": "execute_result"
    },
    {
     "data": {
      "image/png": "[encoded data removed]",
      "text/plain": [
       "<Figure size 432x288 with 1 Axes>"
      ]
     },
     "metadata": {},
     "output_type": "display_data"
    }
   ],
   "source": [
    "#Histogram of the Distance with logarithmic scale for the x-axis\n",
    "data.plot(y='Distance_m', kind='hist', style='o', bins=500, logx=True)"
   ]
  },
  {
   "cell_type": "markdown",
   "metadata": {},
   "source": []
  },
  {
   "cell_type": "markdown",
   "metadata": {},
   "source": [
    "## Excluding Exceptional Values"
   ]
  },
  {
   "cell_type": "code",
   "execution_count": 37,
   "metadata": {},
   "outputs": [],
   "source": [
    "def plot(q):\n",
    "    # We cut the bigger values from our data set and observe only the quantile we desire, for better graphical representation\n",
    "    cut_value = data['Distance_m'].quantile(q)\n",
    "    datasub = data[data['Distance_m'] < cut_value]\n",
    "\n",
    "    datasub.plot(y='Distance_m', kind='hist', style='o', bins=50)"
   ]
  },
  {
   "cell_type": "code",
   "execution_count": 38,
   "metadata": {},
   "outputs": [
    {
     "data": {
      "application/vnd.jupyter.widget-view+json": {
       "model_id": "9db484c6e93a4322b30e87823d2d796a",
       "version_major": 2,
       "version_minor": 0
      },
      "text/plain": [
       "interactive(children=(FloatSlider(value=0.95, description='q', max=1.0, step=0.05), Output()), _dom_classes=('…"
      ]
     },
     "metadata": {},
     "output_type": "display_data"
    }
   ],
   "source": [
    "# Simply a widget to choose which quantile we want to study\n",
    "quantile = interactive(plot, q=widgets.FloatSlider(min=.05,max=1,step=.05,value=.95))\n",
    "display(quantile)"
   ]
  },
  {
   "cell_type": "markdown",
   "metadata": {},
   "source": []
  },
  {
   "cell_type": "markdown",
   "metadata": {},
   "source": [
    "# Conclusion"
   ]
  },
  {
   "cell_type": "markdown",
   "metadata": {},
   "source": []
  }
 ],
 "metadata": {
  "kernelspec": {
   "display_name": "Python 3",
   "language": "python",
   "name": "python3"
  },
  "language_info": {
   "codemirror_mode": {
    "name": "ipython",
    "version": 3
   },
   "file_extension": ".py",
   "mimetype": "text/x-python",
   "name": "python",
   "nbconvert_exporter": "python",
   "pygments_lexer": "ipython3",
   "version": "3.6.5"
  },
  "widgets": {
   "application/vnd.jupyter.widget-state+json": {
    "state": {
     "005a1844157b41faa4a7cef80b49381c": {
      "model_module": "@jupyter-widgets/controls",
      "model_module_version": "1.2.0",
      "model_name": "VBoxModel",
      "state": {
       "_dom_classes": [
        "widget-interact"
       ],
       "children": [
        "IPY_MODEL_af2ed45175004e57afa8da20368ed8c2",
        "IPY_MODEL_da9cb1e66dc24f69aa3238f1daca83e8"
       ],
       "layout": "IPY_MODEL_02c7e58782f0473ca8d9b93efa67f894"
      }
     },
     "008d30cfbeb840a9960320d90305f312": {
      "model_module": "@jupyter-widgets/output",
      "model_module_version": "1.0.0",
      "model_name": "OutputModel",
      "state": {
       "layout": "IPY_MODEL_e628b2a0ba134d47b3cc2a56dbcd6217"
      }
     },
     "00db3a27d3904b14ae89162a5855dfca": {
      "model_module": "@jupyter-widgets/base",
      "model_module_version": "1.0.0",
      "model_name": "LayoutModel",
      "state": {}
     },
     "0180b9e1a17f452b85ac4c031b0ae0ee": {
      "model_module": "@jupyter-widgets/controls",
      "model_module_version": "1.2.0",
      "model_name": "VBoxModel",
      "state": {
       "_dom_classes": [
        "widget-interact"
       ],
       "children": [
        "IPY_MODEL_d58d6552bfd74e9499c745695e682f00",
        "IPY_MODEL_1916a0d00d014a359a934b499f1e318c"
       ],
       "layout": "IPY_MODEL_4934da62919a407c915158f0e7fefc9a"
      }
     },
     "02c7e58782f0473ca8d9b93efa67f894": {
      "model_module": "@jupyter-widgets/base",
      "model_module_version": "1.0.0",
      "model_name": "LayoutModel",
      "state": {}
     },
     "0389f640fbea4dcfb7bd48cada279b61": {
      "model_module": "@jupyter-widgets/base",
      "model_module_version": "1.0.0",
      "model_name": "LayoutModel",
      "state": {}
     },
     "046b255b44aa46b68db1d86494464fdb": {
      "model_module": "@jupyter-widgets/output",
      "model_module_version": "1.0.0",
      "model_name": "OutputModel",
      "state": {
       "layout": "IPY_MODEL_33c56d19b60f47119e36d8dd71c92111",
       "outputs": [
        {
         "data": {
          "text/plain": "0.8"
         },
         "metadata": {},
         "output_type": "display_data"
        }
       ]
      }
     },
     "05069b24441146d39563364b60defa4c": {
      "model_module": "@jupyter-widgets/controls",
      "model_module_version": "1.2.0",
      "model_name": "SliderStyleModel",
      "state": {
       "description_width": ""
      }
     },
     "067c4fe8801446499c9b8d6c9feaab49": {
      "model_module": "@jupyter-widgets/controls",
      "model_module_version": "1.2.0",
      "model_name": "FloatSliderModel",
      "state": {
       "description": "q",
       "layout": "IPY_MODEL_716de8f953af44cc960741c1caabb80c",
       "max": 1,
       "step": 0.05,
       "style": "IPY_MODEL_29cc2829947241fe8993e79f43e3a463",
       "value": 0.65
      }
     },
     "071b66c8d1974537bd38a7e7a10d6d4c": {
      "model_module": "@jupyter-widgets/controls",
      "model_module_version": "1.2.0",
      "model_name": "VBoxModel",
      "state": {
       "_dom_classes": [
        "widget-interact"
       ],
       "children": [
        "IPY_MODEL_a279a10988fb4d3f8ba3cefc8afba384",
        "IPY_MODEL_a13f7b9f3e664c87820359be1b05707b"
       ],
       "layout": "IPY_MODEL_cb68a6dfe07f4014aabb44d997ce88e6"
      }
     },
     "075f2be2c6e3407b8fc5400fddcb8855": {
      "model_module": "@jupyter-widgets/base",
      "model_module_version": "1.0.0",
      "model_name": "LayoutModel",
      "state": {}
     },
     "0a8428f6f53043598cbf7bd75e1d7410": {
      "model_module": "@jupyter-widgets/controls",
      "model_module_version": "1.2.0",
      "model_name": "FloatSliderModel",
      "state": {
       "description": "q",
       "layout": "IPY_MODEL_e2c1a308db2d4c00bd6fd3608db5d28b",
       "max": 1,
       "step": 0.05,
       "style": "IPY_MODEL_c64e42d92fc94c59a194ce2997c711a2",
       "value": 0.9
      }
     },
     "0d61abd46ff444e7aac273ba4697304b": {
      "model_module": "@jupyter-widgets/output",
      "model_module_version": "1.0.0",
      "model_name": "OutputModel",
      "state": {
       "layout": "IPY_MODEL_7a9c3b54264f4a7d8c684e62b4f13a31",
       "outputs": [
        {
         "data": {
          "text/plain": "100"
         },
         "metadata": {},
         "output_type": "display_data"
        }
       ]
      }
     },
     "0dd1e7fe03d747b9b880dd31936d8531": {
      "model_module": "@jupyter-widgets/base",
      "model_module_version": "1.0.0",
      "model_name": "LayoutModel",
      "state": {}
     },
     "0f01ddb3925c4d048a667439a7fa21ed": {
      "model_module": "@jupyter-widgets/controls",
      "model_module_version": "1.2.0",
      "model_name": "SliderStyleModel",
      "state": {
       "description_width": ""
      }
     },
     "1008b64330c54c1882f6235bb15239b1": {
      "model_module": "@jupyter-widgets/controls",
      "model_module_version": "1.2.0",
      "model_name": "FloatSliderModel",
      "state": {
       "description": "q",
       "layout": "IPY_MODEL_394a8daf773842f195311efa9dc73ee2",
       "max": 1,
       "step": 0.05,
       "style": "IPY_MODEL_0f01ddb3925c4d048a667439a7fa21ed",
       "value": 1
      }
     },
     "102700562e884946a747b587a817e670": {
      "model_module": "@jupyter-widgets/controls",
      "model_module_version": "1.2.0",
      "model_name": "SliderStyleModel",
      "state": {
       "description_width": ""
      }
     },
     "10297f8670a84e548f3616671e1d4634": {
      "model_module": "@jupyter-widgets/base",
      "model_module_version": "1.0.0",
      "model_name": "LayoutModel",
      "state": {}
     },
     "139ac849b6994754a62fea06409fbff4": {
      "model_module": "@jupyter-widgets/base",
      "model_module_version": "1.0.0",
      "model_name": "LayoutModel",
      "state": {}
     },
     "1503d966a2974823abfc651d51f5b066": {
      "model_module": "@jupyter-widgets/controls",
      "model_module_version": "1.2.0",
      "model_name": "SliderStyleModel",
      "state": {
       "description_width": ""
      }
     },
     "15082340f2ed4b7aaa91dc9f413427a7": {
      "model_module": "@jupyter-widgets/controls",
      "model_module_version": "1.2.0",
      "model_name": "VBoxModel",
      "state": {
       "_dom_classes": [
        "widget-interact"
       ],
       "children": [
        "IPY_MODEL_0a8428f6f53043598cbf7bd75e1d7410",
        "IPY_MODEL_8392c524f9d74fbe84520a429e9971cc"
       ],
       "layout": "IPY_MODEL_7cd38ba9051f4a4e862d4fc20c3ff551"
      }
     },
     "159c1ba4d11b46529edcb3c47de9a441": {
      "model_module": "@jupyter-widgets/base",
      "model_module_version": "1.0.0",
      "model_name": "LayoutModel",
      "state": {}
     },
     "15bc6c02eb0f4ff487c7d8e61fd8ff2f": {
      "model_module": "@jupyter-widgets/output",
      "model_module_version": "1.0.0",
      "model_name": "OutputModel",
      "state": {
       "layout": "IPY_MODEL_98e24f4143d94d2e8daae5e66c99b11b"
      }
     },
     "15c687b53a934a41b91f4b29c012d2be": {
      "model_module": "@jupyter-widgets/output",
      "model_module_version": "1.0.0",
      "model_name": "OutputModel",
      "state": {
       "layout": "IPY_MODEL_2d809ed80744463a98df3aa31bffd574"
      }
     },
     "16bb30d7e2404a2792ce6829ca3d9308": {
      "model_module": "@jupyter-widgets/base",
      "model_module_version": "1.0.0",
      "model_name": "LayoutModel",
      "state": {}
     },
     "16e851d1364343bfbd963cfa6cad341f": {
      "model_module": "@jupyter-widgets/base",
      "model_module_version": "1.0.0",
      "model_name": "LayoutModel",
      "state": {}
     },
     "1741333f7ba2452480f10e45ea471ed2": {
      "model_module": "@jupyter-widgets/base",
      "model_module_version": "1.0.0",
      "model_name": "LayoutModel",
      "state": {}
     },
     "17e5110f1d9749ac9f0b10858d9af354": {
      "model_module": "@jupyter-widgets/base",
      "model_module_version": "1.0.0",
      "model_name": "LayoutModel",
      "state": {}
     },
     "1916a0d00d014a359a934b499f1e318c": {
      "model_module": "@jupyter-widgets/output",
      "model_module_version": "1.0.0",
      "model_name": "OutputModel",
      "state": {
       "layout": "IPY_MODEL_5b71f197657a4c3fa784fa7e6596c482",
       "outputs": [
        {
         "data": {
          "text/plain": "90"
         },
         "metadata": {},
         "output_type": "display_data"
        }
       ]
      }
     },
     "19bc523a8e6c4f209dc6a7ee3158ad49": {
      "model_module": "@jupyter-widgets/controls",
      "model_module_version": "1.2.0",
      "model_name": "FloatSliderModel",
      "state": {
       "description": "x",
       "layout": "IPY_MODEL_bfe656c0b3284034b48b664db1409d4f",
       "max": 1.5,
       "min": -0.5,
       "step": 0.1,
       "style": "IPY_MODEL_9cd04627a4de4cbfa5eb82316f507bcc",
       "value": 0.4
      }
     },
     "1b123eb0574d4164a8e82613f2391d67": {
      "model_module": "@jupyter-widgets/base",
      "model_module_version": "1.0.0",
      "model_name": "LayoutModel",
      "state": {}
     },
     "1d6c66b8bc474d9698c025b47a8a5466": {
      "model_module": "@jupyter-widgets/base",
      "model_module_version": "1.0.0",
      "model_name": "LayoutModel",
      "state": {}
     },
     "228ea67244e74195b9f17e1465a4b902": {
      "model_module": "@jupyter-widgets/base",
      "model_module_version": "1.0.0",
      "model_name": "LayoutModel",
      "state": {}
     },
     "2319a202978c46458e5b9a0721aeeef0": {
      "model_module": "@jupyter-widgets/controls",
      "model_module_version": "1.2.0",
      "model_name": "VBoxModel",
      "state": {
       "_dom_classes": [
        "widget-interact"
       ],
       "children": [
        "IPY_MODEL_87c01fdb63464751b7457bd48276973d",
        "IPY_MODEL_92105ddbd657428cbf90b11bab350340"
       ],
       "layout": "IPY_MODEL_cd378cace3c346f49a4038faf72ee8bd"
      }
     },
     "241fb67c694b47e08fe7557f37b6dde2": {
      "model_module": "@jupyter-widgets/base",
      "model_module_version": "1.0.0",
      "model_name": "LayoutModel",
      "state": {}
     },
     "24353133fdc847248167046fc0d8b61d": {
      "model_module": "@jupyter-widgets/controls",
      "model_module_version": "1.2.0",
      "model_name": "FloatSliderModel",
      "state": {
       "description": "q",
       "layout": "IPY_MODEL_2eb1934626fc4a949b4b4dc21b2ede05",
       "max": 1,
       "step": 0.05,
       "style": "IPY_MODEL_c2b5375a68a3419eb0041203fe1b37f9",
       "value": 0.2
      }
     },
     "253f9e477dda4eba88378a9c4b2df640": {
      "model_module": "@jupyter-widgets/base",
      "model_module_version": "1.0.0",
      "model_name": "LayoutModel",
      "state": {}
     },
     "269d723d27424693a99ec4114090d30b": {
      "model_module": "@jupyter-widgets/base",
      "model_module_version": "1.0.0",
      "model_name": "LayoutModel",
      "state": {}
     },
     "278971bfc27c4acc97b1da3cfa69f59f": {
      "model_module": "@jupyter-widgets/controls",
      "model_module_version": "1.2.0",
      "model_name": "VBoxModel",
      "state": {
       "_dom_classes": [
        "widget-interact"
       ],
       "layout": "IPY_MODEL_ae133d0a13374b53917413d8cde3cb03"
      }
     },
     "28bf051e84a34c8ba5d6ed430511d918": {
      "model_module": "@jupyter-widgets/controls",
      "model_module_version": "1.2.0",
      "model_name": "ButtonModel",
      "state": {
       "description": "Run Interact",
       "layout": "IPY_MODEL_f8b6dcc35d8945bf86d6b3677fb7598d",
       "style": "IPY_MODEL_5a4b3ada82e74b03a06ec1c495cbd800"
      }
     },
     "29cc2829947241fe8993e79f43e3a463": {
      "model_module": "@jupyter-widgets/controls",
      "model_module_version": "1.2.0",
      "model_name": "SliderStyleModel",
      "state": {
       "description_width": ""
      }
     },
     "2a8a55de18664300922a48c4bf5586a9": {
      "model_module": "@jupyter-widgets/controls",
      "model_module_version": "1.2.0",
      "model_name": "SliderStyleModel",
      "state": {
       "description_width": ""
      }
     },
     "2af0743387e145c2b55ecb338138eeee": {
      "model_module": "@jupyter-widgets/controls",
      "model_module_version": "1.2.0",
      "model_name": "SliderStyleModel",
      "state": {
       "description_width": ""
      }
     },
     "2b57a2a4f1a64530a518c1a1f6154087": {
      "model_module": "@jupyter-widgets/controls",
      "model_module_version": "1.2.0",
      "model_name": "SliderStyleModel",
      "state": {
       "description_width": ""
      }
     },
     "2bc7a43231724534a4f5b4c1cc7d77c8": {
      "model_module": "@jupyter-widgets/controls",
      "model_module_version": "1.2.0",
      "model_name": "VBoxModel",
      "state": {
       "_dom_classes": [
        "widget-interact"
       ],
       "children": [
        "IPY_MODEL_a731bd410f114e459a73dd4d5d27ba08",
        "IPY_MODEL_a60604ecd0eb48d1905af1ca35f23136"
       ],
       "layout": "IPY_MODEL_1741333f7ba2452480f10e45ea471ed2"
      }
     },
     "2c379767d4834eaf91b1044219a2e97f": {
      "model_module": "@jupyter-widgets/controls",
      "model_module_version": "1.2.0",
      "model_name": "SliderStyleModel",
      "state": {
       "description_width": ""
      }
     },
     "2cb28886c3074fbcbff9c5a7ab5b6ace": {
      "model_module": "@jupyter-widgets/base",
      "model_module_version": "1.0.0",
      "model_name": "LayoutModel",
      "state": {}
     },
     "2d809ed80744463a98df3aa31bffd574": {
      "model_module": "@jupyter-widgets/base",
      "model_module_version": "1.0.0",
      "model_name": "LayoutModel",
      "state": {}
     },
     "2eb1934626fc4a949b4b4dc21b2ede05": {
      "model_module": "@jupyter-widgets/base",
      "model_module_version": "1.0.0",
      "model_name": "LayoutModel",
      "state": {}
     },
     "307a4faceb9641179aafcb798d6014b7": {
      "model_module": "@jupyter-widgets/controls",
      "model_module_version": "1.2.0",
      "model_name": "VBoxModel",
      "state": {
       "_dom_classes": [
        "widget-interact"
       ],
       "children": [
        "IPY_MODEL_716f7f8ec6cd43d0be49a7369b33d89d",
        "IPY_MODEL_64938caacabc418e9fa1adc5cdb9d539",
        "IPY_MODEL_49427739e1e84efabda59cc71e4c526c"
       ],
       "layout": "IPY_MODEL_9f4f11b35ec8472481c1ff78c440d65f"
      }
     },
     "31fe8e4788874a55b203fe69d679e5cf": {
      "model_module": "@jupyter-widgets/controls",
      "model_module_version": "1.2.0",
      "model_name": "VBoxModel",
      "state": {
       "_dom_classes": [
        "widget-interact"
       ],
       "children": [
        "IPY_MODEL_19bc523a8e6c4f209dc6a7ee3158ad49",
        "IPY_MODEL_f754d3a67f4245788afc6cc1d8cbdb74"
       ],
       "layout": "IPY_MODEL_2cb28886c3074fbcbff9c5a7ab5b6ace"
      }
     },
     "32e23d76728a48f980ad5fd995d4b217": {
      "model_module": "@jupyter-widgets/controls",
      "model_module_version": "1.2.0",
      "model_name": "VBoxModel",
      "state": {
       "_dom_classes": [
        "widget-interact"
       ],
       "children": [
        "IPY_MODEL_4e132f1816fa4d0aaaba0078426a285f",
        "IPY_MODEL_db74ee2e2e0f46959925088c1f6d3014"
       ],
       "layout": "IPY_MODEL_e4ffe67778c241d4abfc2b7ce5338c30"
      }
     },
     "32f0c4ab281d41aa8e1ac535abde620a": {
      "model_module": "@jupyter-widgets/controls",
      "model_module_version": "1.2.0",
      "model_name": "IntSliderModel",
      "state": {
       "description": "q",
       "layout": "IPY_MODEL_effdfd873acb4883a92243ca87a16141",
       "step": 5,
       "style": "IPY_MODEL_d0b6aee520b346c0a6b5865f069f94de",
       "value": 95
      }
     },
     "33897e79f52044e89d9a78fff0f80a90": {
      "model_module": "@jupyter-widgets/output",
      "model_module_version": "1.0.0",
      "model_name": "OutputModel",
      "state": {
       "layout": "IPY_MODEL_0dd1e7fe03d747b9b880dd31936d8531"
      }
     },
     "33c56d19b60f47119e36d8dd71c92111": {
      "model_module": "@jupyter-widgets/base",
      "model_module_version": "1.0.0",
      "model_name": "LayoutModel",
      "state": {}
     },
     "3627f009c95740f6a8c2bdbae50dcbcc": {
      "model_module": "@jupyter-widgets/base",
      "model_module_version": "1.0.0",
      "model_name": "LayoutModel",
      "state": {}
     },
     "3863495cacd0471ab80cccf4f046f1bf": {
      "model_module": "@jupyter-widgets/base",
      "model_module_version": "1.0.0",
      "model_name": "LayoutModel",
      "state": {}
     },
     "394a8daf773842f195311efa9dc73ee2": {
      "model_module": "@jupyter-widgets/base",
      "model_module_version": "1.0.0",
      "model_name": "LayoutModel",
      "state": {}
     },
     "3c55ab5290c646f1a1d2f7b50c12f58a": {
      "model_module": "@jupyter-widgets/base",
      "model_module_version": "1.0.0",
      "model_name": "LayoutModel",
      "state": {}
     },
     "3db48b2f56204a6ba9fff0334341c419": {
      "model_module": "@jupyter-widgets/base",
      "model_module_version": "1.0.0",
      "model_name": "LayoutModel",
      "state": {}
     },
     "3ee804763aa344caa9862ddfdd0a6f0d": {
      "model_module": "@jupyter-widgets/base",
      "model_module_version": "1.0.0",
      "model_name": "LayoutModel",
      "state": {}
     },
     "402eef2344df4c2d9c1f842cfd7b8f8d": {
      "model_module": "@jupyter-widgets/base",
      "model_module_version": "1.0.0",
      "model_name": "LayoutModel",
      "state": {}
     },
     "41682c9f4c9b4d3eaa1710baa146fb89": {
      "model_module": "@jupyter-widgets/output",
      "model_module_version": "1.0.0",
      "model_name": "OutputModel",
      "state": {
       "layout": "IPY_MODEL_3627f009c95740f6a8c2bdbae50dcbcc"
      }
     },
     "44c53809be964f1faec1600fe48510fe": {
      "model_module": "@jupyter-widgets/base",
      "model_module_version": "1.0.0",
      "model_name": "LayoutModel",
      "state": {}
     },
     "4538f7d80eea4bd0a39112755c4e7ad7": {
      "model_module": "@jupyter-widgets/base",
      "model_module_version": "1.0.0",
      "model_name": "LayoutModel",
      "state": {}
     },
     "465e79a6eec044fdb4cce55e17476171": {
      "model_module": "@jupyter-widgets/base",
      "model_module_version": "1.0.0",
      "model_name": "LayoutModel",
      "state": {}
     },
     "48bfc1bd4ec4402c95114cd591e69e8d": {
      "model_module": "@jupyter-widgets/controls",
      "model_module_version": "1.2.0",
      "model_name": "SliderStyleModel",
      "state": {
       "description_width": ""
      }
     },
     "48d2b752c5d34184be7ba3439810b391": {
      "model_module": "@jupyter-widgets/controls",
      "model_module_version": "1.2.0",
      "model_name": "VBoxModel",
      "state": {
       "_dom_classes": [
        "widget-interact"
       ],
       "children": [
        "IPY_MODEL_7c724c3cc1e640f1a4978589a899f499",
        "IPY_MODEL_8783365499b54389907fdb5b2e2c33d8"
       ],
       "layout": "IPY_MODEL_fb216c4a76df438fbb6f8ceb40aa08dc"
      }
     },
     "49315a13ad0c45198ae9fe99339a4ce5": {
      "model_module": "@jupyter-widgets/base",
      "model_module_version": "1.0.0",
      "model_name": "LayoutModel",
      "state": {}
     },
     "4934da62919a407c915158f0e7fefc9a": {
      "model_module": "@jupyter-widgets/base",
      "model_module_version": "1.0.0",
      "model_name": "LayoutModel",
      "state": {}
     },
     "49427739e1e84efabda59cc71e4c526c": {
      "model_module": "@jupyter-widgets/output",
      "model_module_version": "1.0.0",
      "model_name": "OutputModel",
      "state": {
       "layout": "IPY_MODEL_bfee1bcc08f9480ea88597e1499aa790",
       "outputs": [
        {
         "data": {
          "text/plain": "0.5"
         },
         "metadata": {},
         "output_type": "display_data"
        }
       ]
      }
     },
     "494c0003e0864ba1b258b96156ba9253": {
      "model_module": "@jupyter-widgets/base",
      "model_module_version": "1.0.0",
      "model_name": "LayoutModel",
      "state": {}
     },
     "4a882562142649d5be05e5ea94d8c2a3": {
      "model_module": "@jupyter-widgets/base",
      "model_module_version": "1.0.0",
      "model_name": "LayoutModel",
      "state": {}
     },
     "4c134e7abd354b599ac8c9971cfe4b35": {
      "model_module": "@jupyter-widgets/controls",
      "model_module_version": "1.2.0",
      "model_name": "SliderStyleModel",
      "state": {
       "description_width": ""
      }
     },
     "4ca2e8fda8f14054a1dd7e19e8757adf": {
      "model_module": "@jupyter-widgets/base",
      "model_module_version": "1.0.0",
      "model_name": "LayoutModel",
      "state": {}
     },
     "4d3d36c9f7df412f902518831cf888ba": {
      "model_module": "@jupyter-widgets/output",
      "model_module_version": "1.0.0",
      "model_name": "OutputModel",
      "state": {
       "layout": "IPY_MODEL_834c81e6e0704b01b4fd4db6c719b85c"
      }
     },
     "4e132f1816fa4d0aaaba0078426a285f": {
      "model_module": "@jupyter-widgets/controls",
      "model_module_version": "1.2.0",
      "model_name": "FloatSliderModel",
      "state": {
       "description": "q",
       "layout": "IPY_MODEL_e918b1a7ecfc4efaa07a8b27630bab2f",
       "max": 1,
       "step": 0.05,
       "style": "IPY_MODEL_9d8551bfd1d14c56a7c6a7b9127a4691",
       "value": 0.8
      }
     },
     "4f01c403ec414ad98c05f7a6a2730607": {
      "model_module": "@jupyter-widgets/base",
      "model_module_version": "1.0.0",
      "model_name": "LayoutModel",
      "state": {}
     },
     "4fa941a7632f4712b32818eeff72d672": {
      "model_module": "@jupyter-widgets/controls",
      "model_module_version": "1.2.0",
      "model_name": "FloatSliderModel",
      "state": {
       "description": "q",
       "layout": "IPY_MODEL_76939fa632344f25b39f486535578038",
       "max": 1,
       "step": 0.05,
       "style": "IPY_MODEL_2a8a55de18664300922a48c4bf5586a9",
       "value": 0.7
      }
     },
     "504fcdb9d4104021866b2c141f9ba183": {
      "model_module": "@jupyter-widgets/base",
      "model_module_version": "1.0.0",
      "model_name": "LayoutModel",
      "state": {}
     },
     "508d3f5b7e7943f08e433593065c7265": {
      "model_module": "@jupyter-widgets/base",
      "model_module_version": "1.0.0",
      "model_name": "LayoutModel",
      "state": {}
     },
     "512b0fdcbbae4a5ca92de9435c301ccd": {
      "model_module": "@jupyter-widgets/base",
      "model_module_version": "1.0.0",
      "model_name": "LayoutModel",
      "state": {}
     },
     "515b89e010a6484888ce26ed24b3511c": {
      "model_module": "@jupyter-widgets/controls",
      "model_module_version": "1.2.0",
      "model_name": "FloatSliderModel",
      "state": {
       "description": "q",
       "layout": "IPY_MODEL_7ad0a6b0bd6f49a58b5e82b3c2dbf66b",
       "max": 1.5,
       "min": -0.5,
       "step": 0.1,
       "style": "IPY_MODEL_1503d966a2974823abfc651d51f5b066",
       "value": 0.5
      }
     },
     "51bfeb334b9148589e82a02509df0788": {
      "model_module": "@jupyter-widgets/base",
      "model_module_version": "1.0.0",
      "model_name": "LayoutModel",
      "state": {}
     },
     "530bb57d84454b1285af9d142ca46486": {
      "model_module": "@jupyter-widgets/controls",
      "model_module_version": "1.2.0",
      "model_name": "FloatSliderModel",
      "state": {
       "description": "q",
       "layout": "IPY_MODEL_075f2be2c6e3407b8fc5400fddcb8855",
       "max": 1,
       "step": 0.05,
       "style": "IPY_MODEL_fbf4e0625d2e496588f444d4e8741cf7",
       "value": 0.55
      }
     },
     "5390cd191c4441cbad38ea9ec920acc0": {
      "model_module": "@jupyter-widgets/controls",
      "model_module_version": "1.2.0",
      "model_name": "FloatSliderModel",
      "state": {
       "description": "q",
       "layout": "IPY_MODEL_504fcdb9d4104021866b2c141f9ba183",
       "max": 1,
       "step": 0.05,
       "style": "IPY_MODEL_a44b56c5b42e44bd9aed2ab41cf32118",
       "value": 0.9
      }
     },
     "53f552afcc3c4bf8b3de26344a7b5535": {
      "model_module": "@jupyter-widgets/controls",
      "model_module_version": "1.2.0",
      "model_name": "ButtonStyleModel",
      "state": {}
     },
     "55cc3213e1234e7f869054117cea982d": {
      "model_module": "@jupyter-widgets/base",
      "model_module_version": "1.0.0",
      "model_name": "LayoutModel",
      "state": {}
     },
     "55ed396a4b2d4ca1bef6f381afa72914": {
      "model_module": "@jupyter-widgets/controls",
      "model_module_version": "1.2.0",
      "model_name": "SliderStyleModel",
      "state": {
       "description_width": ""
      }
     },
     "562b543e3deb4a85b07091d5a320e330": {
      "model_module": "@jupyter-widgets/output",
      "model_module_version": "1.0.0",
      "model_name": "OutputModel",
      "state": {
       "layout": "IPY_MODEL_494c0003e0864ba1b258b96156ba9253"
      }
     },
     "572db8bbe42a498fba094e4c1ccc3dd0": {
      "model_module": "@jupyter-widgets/base",
      "model_module_version": "1.0.0",
      "model_name": "LayoutModel",
      "state": {}
     },
     "580b3060e5114d1080b410ed31446406": {
      "model_module": "@jupyter-widgets/controls",
      "model_module_version": "1.2.0",
      "model_name": "VBoxModel",
      "state": {
       "_dom_classes": [
        "widget-interact"
       ],
       "children": [
        "IPY_MODEL_5390cd191c4441cbad38ea9ec920acc0",
        "IPY_MODEL_d285ccc606784fd0b852d0091f4e2fa0"
       ],
       "layout": "IPY_MODEL_9f7a7fdb5ae2449d91141d12a91a82aa"
      }
     },
     "5a4b3ada82e74b03a06ec1c495cbd800": {
      "model_module": "@jupyter-widgets/controls",
      "model_module_version": "1.2.0",
      "model_name": "ButtonStyleModel",
      "state": {}
     },
     "5a5c0809829c4ba6b88f90bf513f495f": {
      "model_module": "@jupyter-widgets/base",
      "model_module_version": "1.0.0",
      "model_name": "LayoutModel",
      "state": {}
     },
     "5a814831ff224cdaa7ab726fbdcc03ce": {
      "model_module": "@jupyter-widgets/controls",
      "model_module_version": "1.2.0",
      "model_name": "IntSliderModel",
      "state": {
       "description": "x",
       "layout": "IPY_MODEL_f96e31fc42034979b81783ce3c2c2b54",
       "max": 30,
       "min": -10,
       "style": "IPY_MODEL_2c379767d4834eaf91b1044219a2e97f",
       "value": 6
      }
     },
     "5afa35f1bfcb43f29481bbba7ba90178": {
      "model_module": "@jupyter-widgets/base",
      "model_module_version": "1.0.0",
      "model_name": "LayoutModel",
      "state": {}
     },
     "5b0287755232407c916abd6654942fb5": {
      "model_module": "@jupyter-widgets/controls",
      "model_module_version": "1.2.0",
      "model_name": "VBoxModel",
      "state": {
       "_dom_classes": [
        "widget-interact"
       ],
       "children": [
        "IPY_MODEL_be2acc30536a4ce89d1b3ada7842c649",
        "IPY_MODEL_0d61abd46ff444e7aac273ba4697304b"
       ],
       "layout": "IPY_MODEL_8adcf1a7501e4cf2938dad4a77464112"
      }
     },
     "5b06f0f6ebed4d829639ea448e376e0c": {
      "model_module": "@jupyter-widgets/controls",
      "model_module_version": "1.2.0",
      "model_name": "FloatSliderModel",
      "state": {
       "description": "q",
       "layout": "IPY_MODEL_17e5110f1d9749ac9f0b10858d9af354",
       "max": 1,
       "step": 0.05,
       "style": "IPY_MODEL_dd872326393d4b2398d41263d5f1ea85",
       "value": 0.65
      }
     },
     "5b71f197657a4c3fa784fa7e6596c482": {
      "model_module": "@jupyter-widgets/base",
      "model_module_version": "1.0.0",
      "model_name": "LayoutModel",
      "state": {}
     },
     "5b7fddcf6569490e9e1710a5a5911ef7": {
      "model_module": "@jupyter-widgets/output",
      "model_module_version": "1.0.0",
      "model_name": "OutputModel",
      "state": {
       "layout": "IPY_MODEL_3db48b2f56204a6ba9fff0334341c419"
      }
     },
     "5ca55146997644e09b6483fbbc7ac541": {
      "model_module": "@jupyter-widgets/controls",
      "model_module_version": "1.2.0",
      "model_name": "VBoxModel",
      "state": {
       "_dom_classes": [
        "widget-interact"
       ],
       "children": [
        "IPY_MODEL_067c4fe8801446499c9b8d6c9feaab49",
        "IPY_MODEL_562b543e3deb4a85b07091d5a320e330"
       ],
       "layout": "IPY_MODEL_6ca766c33e5d4225a4f4164b88e66038"
      }
     },
     "5e3b7cc2e67748ad97acdc7fd938e74e": {
      "model_module": "@jupyter-widgets/controls",
      "model_module_version": "1.2.0",
      "model_name": "SliderStyleModel",
      "state": {
       "description_width": ""
      }
     },
     "606953c90f104ad0a61ffc777b735a92": {
      "model_module": "@jupyter-widgets/output",
      "model_module_version": "1.0.0",
      "model_name": "OutputModel",
      "state": {
       "layout": "IPY_MODEL_4a882562142649d5be05e5ea94d8c2a3",
       "outputs": [
        {
         "data": {
          "text/plain": "0.65"
         },
         "metadata": {},
         "output_type": "display_data"
        }
       ]
      }
     },
     "64938caacabc418e9fa1adc5cdb9d539": {
      "model_module": "@jupyter-widgets/controls",
      "model_module_version": "1.2.0",
      "model_name": "ButtonModel",
      "state": {
       "description": "Run Interact",
       "layout": "IPY_MODEL_1b123eb0574d4164a8e82613f2391d67",
       "style": "IPY_MODEL_704f7da4696742e8ace9ad8f2e82b84a"
      }
     },
     "6520fa5d73ca49d19a1d5cc5cffa82f6": {
      "model_module": "@jupyter-widgets/base",
      "model_module_version": "1.0.0",
      "model_name": "LayoutModel",
      "state": {}
     },
     "6a77a6025f65478695caf8a6ce14a821": {
      "model_module": "@jupyter-widgets/controls",
      "model_module_version": "1.2.0",
      "model_name": "SliderStyleModel",
      "state": {
       "description_width": ""
      }
     },
     "6ca766c33e5d4225a4f4164b88e66038": {
      "model_module": "@jupyter-widgets/base",
      "model_module_version": "1.0.0",
      "model_name": "LayoutModel",
      "state": {}
     },
     "6ea5ff4bb72c4c5ca617ee3c778f81b7": {
      "model_module": "@jupyter-widgets/controls",
      "model_module_version": "1.2.0",
      "model_name": "FloatSliderModel",
      "state": {
       "description": "q",
       "layout": "IPY_MODEL_b7f992f80f2748fd87245a401a8f7e75",
       "max": 1,
       "step": 0.05,
       "style": "IPY_MODEL_102700562e884946a747b587a817e670",
       "value": 0.95
      }
     },
     "704f7da4696742e8ace9ad8f2e82b84a": {
      "model_module": "@jupyter-widgets/controls",
      "model_module_version": "1.2.0",
      "model_name": "ButtonStyleModel",
      "state": {}
     },
     "716de8f953af44cc960741c1caabb80c": {
      "model_module": "@jupyter-widgets/base",
      "model_module_version": "1.0.0",
      "model_name": "LayoutModel",
      "state": {}
     },
     "716f7f8ec6cd43d0be49a7369b33d89d": {
      "model_module": "@jupyter-widgets/controls",
      "model_module_version": "1.2.0",
      "model_name": "FloatSliderModel",
      "state": {
       "description": "q",
       "layout": "IPY_MODEL_a312aa0adb214f6c886c6234ea564e0e",
       "max": 1,
       "step": 0.05,
       "style": "IPY_MODEL_d45bffefda9c41c4ac731516d639c83a",
       "value": 0.5
      }
     },
     "76939fa632344f25b39f486535578038": {
      "model_module": "@jupyter-widgets/base",
      "model_module_version": "1.0.0",
      "model_name": "LayoutModel",
      "state": {}
     },
     "76de1f53a7e74ac2ade2dbb1d4fd89e6": {
      "model_module": "@jupyter-widgets/base",
      "model_module_version": "1.0.0",
      "model_name": "LayoutModel",
      "state": {}
     },
     "798d618be0bb47dcad578f525b8a22ae": {
      "model_module": "@jupyter-widgets/controls",
      "model_module_version": "1.2.0",
      "model_name": "FloatSliderModel",
      "state": {
       "description": "q",
       "layout": "IPY_MODEL_3c55ab5290c646f1a1d2f7b50c12f58a",
       "max": 1,
       "step": 0.05,
       "style": "IPY_MODEL_fd654049e465445887d30f3c1570c176",
       "value": 0.5
      }
     },
     "7a38bbe13c9d487580511cf3ea099943": {
      "model_module": "@jupyter-widgets/output",
      "model_module_version": "1.0.0",
      "model_name": "OutputModel",
      "state": {
       "layout": "IPY_MODEL_10297f8670a84e548f3616671e1d4634",
       "outputs": [
        {
         "data": {
          "text/plain": "0.5"
         },
         "metadata": {},
         "output_type": "display_data"
        }
       ]
      }
     },
     "7a9c3b54264f4a7d8c684e62b4f13a31": {
      "model_module": "@jupyter-widgets/base",
      "model_module_version": "1.0.0",
      "model_name": "LayoutModel",
      "state": {}
     },
     "7ad0a6b0bd6f49a58b5e82b3c2dbf66b": {
      "model_module": "@jupyter-widgets/base",
      "model_module_version": "1.0.0",
      "model_name": "LayoutModel",
      "state": {}
     },
     "7c724c3cc1e640f1a4978589a899f499": {
      "model_module": "@jupyter-widgets/controls",
      "model_module_version": "1.2.0",
      "model_name": "IntSliderModel",
      "state": {
       "description": "q",
       "layout": "IPY_MODEL_44c53809be964f1faec1600fe48510fe",
       "max": 1,
       "step": 0,
       "style": "IPY_MODEL_48bfc1bd4ec4402c95114cd591e69e8d"
      }
     },
     "7cd38ba9051f4a4e862d4fc20c3ff551": {
      "model_module": "@jupyter-widgets/base",
      "model_module_version": "1.0.0",
      "model_name": "LayoutModel",
      "state": {}
     },
     "7e85ce6fcd654b8f96f3aa4790027156": {
      "model_module": "@jupyter-widgets/base",
      "model_module_version": "1.0.0",
      "model_name": "LayoutModel",
      "state": {}
     },
     "81aa9a00675944b68029a598a8822efe": {
      "model_module": "@jupyter-widgets/output",
      "model_module_version": "1.0.0",
      "model_name": "OutputModel",
      "state": {
       "layout": "IPY_MODEL_253f9e477dda4eba88378a9c4b2df640",
       "outputs": [
        {
         "data": {
          "text/plain": "0.5"
         },
         "metadata": {},
         "output_type": "display_data"
        }
       ]
      }
     },
     "830ee4a8c9ee477d971520100bf0014b": {
      "model_module": "@jupyter-widgets/controls",
      "model_module_version": "1.2.0",
      "model_name": "SliderStyleModel",
      "state": {
       "description_width": ""
      }
     },
     "834c81e6e0704b01b4fd4db6c719b85c": {
      "model_module": "@jupyter-widgets/base",
      "model_module_version": "1.0.0",
      "model_name": "LayoutModel",
      "state": {}
     },
     "8392c524f9d74fbe84520a429e9971cc": {
      "model_module": "@jupyter-widgets/output",
      "model_module_version": "1.0.0",
      "model_name": "OutputModel",
      "state": {
       "layout": "IPY_MODEL_93837bfb091941fd990c35a2592b0946"
      }
     },
     "843a717d96974e6d87dadebe3e9345e2": {
      "model_module": "@jupyter-widgets/controls",
      "model_module_version": "1.2.0",
      "model_name": "FloatSliderModel",
      "state": {
       "description": "q",
       "layout": "IPY_MODEL_3863495cacd0471ab80cccf4f046f1bf",
       "max": 1,
       "step": 0.05,
       "style": "IPY_MODEL_4c134e7abd354b599ac8c9971cfe4b35",
       "value": 0.95
      }
     },
     "8463d518cb44495a95a8907b5e436563": {
      "model_module": "@jupyter-widgets/controls",
      "model_module_version": "1.2.0",
      "model_name": "ButtonModel",
      "state": {
       "description": "Run Interact",
       "layout": "IPY_MODEL_16bb30d7e2404a2792ce6829ca3d9308",
       "style": "IPY_MODEL_53f552afcc3c4bf8b3de26344a7b5535"
      }
     },
     "86600843e1a84dcabd2be57782bf66e5": {
      "model_module": "@jupyter-widgets/base",
      "model_module_version": "1.0.0",
      "model_name": "LayoutModel",
      "state": {}
     },
     "8783365499b54389907fdb5b2e2c33d8": {
      "model_module": "@jupyter-widgets/output",
      "model_module_version": "1.0.0",
      "model_name": "OutputModel",
      "state": {
       "layout": "IPY_MODEL_b40bae7ed5f24a6d88112cb250155ee2",
       "outputs": [
        {
         "data": {
          "text/plain": "0"
         },
         "metadata": {},
         "output_type": "display_data"
        }
       ]
      }
     },
     "87c01fdb63464751b7457bd48276973d": {
      "model_module": "@jupyter-widgets/controls",
      "model_module_version": "1.2.0",
      "model_name": "IntSliderModel",
      "state": {
       "description": "q",
       "layout": "IPY_MODEL_bc827ac619f6401a98ee2e9a7b16a2a1",
       "step": 5,
       "style": "IPY_MODEL_c86270233eca404698863a64becaa92b",
       "value": 95
      }
     },
     "8aca51b55524422b9bf5f5528186f1bb": {
      "model_module": "@jupyter-widgets/controls",
      "model_module_version": "1.2.0",
      "model_name": "VBoxModel",
      "state": {
       "_dom_classes": [
        "widget-interact"
       ],
       "children": [
        "IPY_MODEL_5a814831ff224cdaa7ab726fbdcc03ce",
        "IPY_MODEL_b0db0aa312394cd2837b30dd8cf150c5"
       ],
       "layout": "IPY_MODEL_241fb67c694b47e08fe7557f37b6dde2"
      }
     },
     "8adcf1a7501e4cf2938dad4a77464112": {
      "model_module": "@jupyter-widgets/base",
      "model_module_version": "1.0.0",
      "model_name": "LayoutModel",
      "state": {}
     },
     "8c1c6e6498eb4783ab1a8d6d1b5e83ea": {
      "model_module": "@jupyter-widgets/base",
      "model_module_version": "1.0.0",
      "model_name": "LayoutModel",
      "state": {}
     },
     "8d8e970e152c455d97aa59436d1c656d": {
      "model_module": "@jupyter-widgets/controls",
      "model_module_version": "1.2.0",
      "model_name": "VBoxModel",
      "state": {
       "_dom_classes": [
        "widget-interact"
       ],
       "children": [
        "IPY_MODEL_24353133fdc847248167046fc0d8b61d",
        "IPY_MODEL_15bc6c02eb0f4ff487c7d8e61fd8ff2f"
       ],
       "layout": "IPY_MODEL_508d3f5b7e7943f08e433593065c7265"
      }
     },
     "8f6f985394404f0cafee55d5ec8ca965": {
      "model_module": "@jupyter-widgets/controls",
      "model_module_version": "1.2.0",
      "model_name": "VBoxModel",
      "state": {
       "_dom_classes": [
        "widget-interact"
       ],
       "children": [
        "IPY_MODEL_6ea5ff4bb72c4c5ca617ee3c778f81b7",
        "IPY_MODEL_15c687b53a934a41b91f4b29c012d2be"
       ],
       "layout": "IPY_MODEL_c10e3021fe7b4052a1f4378473feefc1"
      }
     },
     "8f7bb229d3f24249a2c87a7b124d1f6e": {
      "model_module": "@jupyter-widgets/controls",
      "model_module_version": "1.2.0",
      "model_name": "FloatSliderModel",
      "state": {
       "description": "q",
       "layout": "IPY_MODEL_512b0fdcbbae4a5ca92de9435c301ccd",
       "max": 1,
       "step": 0.05,
       "style": "IPY_MODEL_c4e81b094f064d0bb591d3ae7d908447",
       "value": 0.95
      }
     },
     "8fec0f71009e488ab73dee6da5832f6d": {
      "model_module": "@jupyter-widgets/output",
      "model_module_version": "1.0.0",
      "model_name": "OutputModel",
      "state": {
       "layout": "IPY_MODEL_4ca2e8fda8f14054a1dd7e19e8757adf",
       "outputs": [
        {
         "data": {
          "image/png": "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\n",
          "text/plain": "<Figure size 432x288 with 1 Axes>"
         },
         "metadata": {},
         "output_type": "display_data"
        }
       ]
      }
     },
     "91d8b4885d0c48d5b5ae1b2457079041": {
      "model_module": "@jupyter-widgets/output",
      "model_module_version": "1.0.0",
      "model_name": "OutputModel",
      "state": {
       "layout": "IPY_MODEL_b65281f8476441428dc69b4ef45d950b",
       "outputs": [
        {
         "data": {
          "text/plain": "95"
         },
         "metadata": {},
         "output_type": "display_data"
        }
       ]
      }
     },
     "92105ddbd657428cbf90b11bab350340": {
      "model_module": "@jupyter-widgets/output",
      "model_module_version": "1.0.0",
      "model_name": "OutputModel",
      "state": {
       "layout": "IPY_MODEL_5a5c0809829c4ba6b88f90bf513f495f",
       "outputs": [
        {
         "data": {
          "text/plain": "95"
         },
         "metadata": {},
         "output_type": "display_data"
        }
       ]
      }
     },
     "93837bfb091941fd990c35a2592b0946": {
      "model_module": "@jupyter-widgets/base",
      "model_module_version": "1.0.0",
      "model_name": "LayoutModel",
      "state": {}
     },
     "98e24f4143d94d2e8daae5e66c99b11b": {
      "model_module": "@jupyter-widgets/base",
      "model_module_version": "1.0.0",
      "model_name": "LayoutModel",
      "state": {}
     },
     "99cf0a3162db4c2da52bdf3cf2528fcb": {
      "model_module": "@jupyter-widgets/controls",
      "model_module_version": "1.2.0",
      "model_name": "SliderStyleModel",
      "state": {
       "description_width": ""
      }
     },
     "9cd04627a4de4cbfa5eb82316f507bcc": {
      "model_module": "@jupyter-widgets/controls",
      "model_module_version": "1.2.0",
      "model_name": "SliderStyleModel",
      "state": {
       "description_width": ""
      }
     },
     "9cdfa0a87e1447b5b76902727edab29f": {
      "model_module": "@jupyter-widgets/base",
      "model_module_version": "1.0.0",
      "model_name": "LayoutModel",
      "state": {}
     },
     "9d8551bfd1d14c56a7c6a7b9127a4691": {
      "model_module": "@jupyter-widgets/controls",
      "model_module_version": "1.2.0",
      "model_name": "SliderStyleModel",
      "state": {
       "description_width": ""
      }
     },
     "9db484c6e93a4322b30e87823d2d796a": {
      "model_module": "@jupyter-widgets/controls",
      "model_module_version": "1.2.0",
      "model_name": "VBoxModel",
      "state": {
       "_dom_classes": [
        "widget-interact"
       ],
       "children": [
        "IPY_MODEL_e8495ff3a1af45bcb39af10b0949fb91",
        "IPY_MODEL_8fec0f71009e488ab73dee6da5832f6d"
       ],
       "layout": "IPY_MODEL_86600843e1a84dcabd2be57782bf66e5"
      }
     },
     "9f4f11b35ec8472481c1ff78c440d65f": {
      "model_module": "@jupyter-widgets/base",
      "model_module_version": "1.0.0",
      "model_name": "LayoutModel",
      "state": {}
     },
     "9f7a7fdb5ae2449d91141d12a91a82aa": {
      "model_module": "@jupyter-widgets/base",
      "model_module_version": "1.0.0",
      "model_name": "LayoutModel",
      "state": {}
     },
     "a13f7b9f3e664c87820359be1b05707b": {
      "model_module": "@jupyter-widgets/output",
      "model_module_version": "1.0.0",
      "model_name": "OutputModel",
      "state": {
       "layout": "IPY_MODEL_f4e9a4962f484542b744d48663848d7a",
       "outputs": [
        {
         "data": {
          "text/plain": "0"
         },
         "metadata": {},
         "output_type": "display_data"
        }
       ]
      }
     },
     "a279a10988fb4d3f8ba3cefc8afba384": {
      "model_module": "@jupyter-widgets/controls",
      "model_module_version": "1.2.0",
      "model_name": "IntSliderModel",
      "state": {
       "description": "q",
       "layout": "IPY_MODEL_da2bb213df294078a5791ad0d09d20b4",
       "max": 1,
       "step": 20,
       "style": "IPY_MODEL_55ed396a4b2d4ca1bef6f381afa72914"
      }
     },
     "a312aa0adb214f6c886c6234ea564e0e": {
      "model_module": "@jupyter-widgets/base",
      "model_module_version": "1.0.0",
      "model_name": "LayoutModel",
      "state": {}
     },
     "a44b56c5b42e44bd9aed2ab41cf32118": {
      "model_module": "@jupyter-widgets/controls",
      "model_module_version": "1.2.0",
      "model_name": "SliderStyleModel",
      "state": {
       "description_width": ""
      }
     },
     "a52b034d414a45eabaece8a3d319137b": {
      "model_module": "@jupyter-widgets/controls",
      "model_module_version": "1.2.0",
      "model_name": "VBoxModel",
      "state": {
       "_dom_classes": [
        "widget-interact"
       ],
       "children": [
        "IPY_MODEL_e16adc48a22f4492bdfa0b227d171acf",
        "IPY_MODEL_008d30cfbeb840a9960320d90305f312"
       ],
       "layout": "IPY_MODEL_7e85ce6fcd654b8f96f3aa4790027156"
      }
     },
     "a585910fc52d4918bdc5f43bc8864b77": {
      "model_module": "@jupyter-widgets/controls",
      "model_module_version": "1.2.0",
      "model_name": "VBoxModel",
      "state": {
       "_dom_classes": [
        "widget-interact"
       ],
       "children": [
        "IPY_MODEL_515b89e010a6484888ce26ed24b3511c",
        "IPY_MODEL_81aa9a00675944b68029a598a8822efe"
       ],
       "layout": "IPY_MODEL_228ea67244e74195b9f17e1465a4b902"
      }
     },
     "a60604ecd0eb48d1905af1ca35f23136": {
      "model_module": "@jupyter-widgets/output",
      "model_module_version": "1.0.0",
      "model_name": "OutputModel",
      "state": {
       "layout": "IPY_MODEL_402eef2344df4c2d9c1f842cfd7b8f8d"
      }
     },
     "a63a847bcff740709d01a9e7292a8915": {
      "model_module": "@jupyter-widgets/base",
      "model_module_version": "1.0.0",
      "model_name": "LayoutModel",
      "state": {}
     },
     "a731bd410f114e459a73dd4d5d27ba08": {
      "model_module": "@jupyter-widgets/controls",
      "model_module_version": "1.2.0",
      "model_name": "FloatSliderModel",
      "state": {
       "description": "q",
       "layout": "IPY_MODEL_d63fb80097394a0ab6d0274c50d46407",
       "max": 1,
       "step": 0.05,
       "style": "IPY_MODEL_830ee4a8c9ee477d971520100bf0014b",
       "value": 0.55
      }
     },
     "a8b0bb82a61e45ae98d76ae6260988bd": {
      "model_module": "@jupyter-widgets/controls",
      "model_module_version": "1.2.0",
      "model_name": "ButtonModel",
      "state": {
       "description": "Run Interact",
       "layout": "IPY_MODEL_aa587db11b1749489264e1dabe62553a",
       "style": "IPY_MODEL_f9e4e9273fab4bd586267da75d5678ec"
      }
     },
     "aa587db11b1749489264e1dabe62553a": {
      "model_module": "@jupyter-widgets/base",
      "model_module_version": "1.0.0",
      "model_name": "LayoutModel",
      "state": {}
     },
     "ae133d0a13374b53917413d8cde3cb03": {
      "model_module": "@jupyter-widgets/base",
      "model_module_version": "1.0.0",
      "model_name": "LayoutModel",
      "state": {}
     },
     "af2ed45175004e57afa8da20368ed8c2": {
      "model_module": "@jupyter-widgets/controls",
      "model_module_version": "1.2.0",
      "model_name": "FloatSliderModel",
      "state": {
       "description": "q",
       "layout": "IPY_MODEL_f053c367549047298e02076a2cd5f5dc",
       "max": 1,
       "step": 0.05,
       "style": "IPY_MODEL_b0ac282641ae4fc691ec570ee47211bd",
       "value": 1
      }
     },
     "b0039199bf0b42ada3949ca284f97d21": {
      "model_module": "@jupyter-widgets/controls",
      "model_module_version": "1.2.0",
      "model_name": "VBoxModel",
      "state": {
       "_dom_classes": [
        "widget-interact"
       ],
       "children": [
        "IPY_MODEL_32f0c4ab281d41aa8e1ac535abde620a",
        "IPY_MODEL_91d8b4885d0c48d5b5ae1b2457079041"
       ],
       "layout": "IPY_MODEL_572db8bbe42a498fba094e4c1ccc3dd0"
      }
     },
     "b0ac282641ae4fc691ec570ee47211bd": {
      "model_module": "@jupyter-widgets/controls",
      "model_module_version": "1.2.0",
      "model_name": "SliderStyleModel",
      "state": {
       "description_width": ""
      }
     },
     "b0db0aa312394cd2837b30dd8cf150c5": {
      "model_module": "@jupyter-widgets/output",
      "model_module_version": "1.0.0",
      "model_name": "OutputModel",
      "state": {
       "layout": "IPY_MODEL_465e79a6eec044fdb4cce55e17476171",
       "outputs": [
        {
         "data": {
          "text/plain": "6"
         },
         "metadata": {},
         "output_type": "display_data"
        }
       ]
      }
     },
     "b1380af9d04d4586985eed695cda5edf": {
      "model_module": "@jupyter-widgets/controls",
      "model_module_version": "1.2.0",
      "model_name": "VBoxModel",
      "state": {
       "_dom_classes": [
        "widget-interact"
       ],
       "children": [
        "IPY_MODEL_e40c8836bf5a4807b5c3cec049866420",
        "IPY_MODEL_33897e79f52044e89d9a78fff0f80a90"
       ],
       "layout": "IPY_MODEL_cb3bf30c5f6049b9a1dacbb1a8cf4b96"
      }
     },
     "b24c03538af649cfb92666b860126806": {
      "model_module": "@jupyter-widgets/controls",
      "model_module_version": "1.2.0",
      "model_name": "VBoxModel",
      "state": {
       "_dom_classes": [
        "widget-interact"
       ],
       "children": [
        "IPY_MODEL_798d618be0bb47dcad578f525b8a22ae",
        "IPY_MODEL_8463d518cb44495a95a8907b5e436563",
        "IPY_MODEL_dff65396ca524040be4bba255ca79752"
       ],
       "layout": "IPY_MODEL_16e851d1364343bfbd963cfa6cad341f"
      }
     },
     "b257701db71144bc842dc1e9cde9a49d": {
      "model_module": "@jupyter-widgets/controls",
      "model_module_version": "1.2.0",
      "model_name": "FloatSliderModel",
      "state": {
       "description": "q",
       "layout": "IPY_MODEL_0389f640fbea4dcfb7bd48cada279b61",
       "max": 1,
       "step": 0.05,
       "style": "IPY_MODEL_b3416b50115243969a5e99064eaa3120",
       "value": 0.95
      }
     },
     "b271cc0f3c35446c828b9af81133a767": {
      "model_module": "@jupyter-widgets/output",
      "model_module_version": "1.0.0",
      "model_name": "OutputModel",
      "state": {
       "layout": "IPY_MODEL_3ee804763aa344caa9862ddfdd0a6f0d"
      }
     },
     "b2e86a6de0dd42d184d392d0199ebd9e": {
      "model_module": "@jupyter-widgets/base",
      "model_module_version": "1.0.0",
      "model_name": "LayoutModel",
      "state": {}
     },
     "b3416b50115243969a5e99064eaa3120": {
      "model_module": "@jupyter-widgets/controls",
      "model_module_version": "1.2.0",
      "model_name": "SliderStyleModel",
      "state": {
       "description_width": ""
      }
     },
     "b37016b6f6464ca2a4ba4f82a29e60ab": {
      "model_module": "@jupyter-widgets/controls",
      "model_module_version": "1.2.0",
      "model_name": "VBoxModel",
      "state": {
       "_dom_classes": [
        "widget-interact"
       ],
       "children": [
        "IPY_MODEL_843a717d96974e6d87dadebe3e9345e2",
        "IPY_MODEL_5b7fddcf6569490e9e1710a5a5911ef7"
       ],
       "layout": "IPY_MODEL_49315a13ad0c45198ae9fe99339a4ce5"
      }
     },
     "b40bae7ed5f24a6d88112cb250155ee2": {
      "model_module": "@jupyter-widgets/base",
      "model_module_version": "1.0.0",
      "model_name": "LayoutModel",
      "state": {}
     },
     "b65281f8476441428dc69b4ef45d950b": {
      "model_module": "@jupyter-widgets/base",
      "model_module_version": "1.0.0",
      "model_name": "LayoutModel",
      "state": {}
     },
     "b7f992f80f2748fd87245a401a8f7e75": {
      "model_module": "@jupyter-widgets/base",
      "model_module_version": "1.0.0",
      "model_name": "LayoutModel",
      "state": {}
     },
     "b8103754598d40a38f9dd3f63dc8d7d3": {
      "model_module": "@jupyter-widgets/base",
      "model_module_version": "1.0.0",
      "model_name": "LayoutModel",
      "state": {}
     },
     "ba98c59d57e741cc8ef2d254f699eebb": {
      "model_module": "@jupyter-widgets/controls",
      "model_module_version": "1.2.0",
      "model_name": "VBoxModel",
      "state": {
       "_dom_classes": [
        "widget-interact"
       ],
       "children": [
        "IPY_MODEL_d238ad7029e44ce2acc8a71d85709a1c",
        "IPY_MODEL_a8b0bb82a61e45ae98d76ae6260988bd",
        "IPY_MODEL_41682c9f4c9b4d3eaa1710baa146fb89"
       ],
       "layout": "IPY_MODEL_cb24aa3700834618aee6020c7163eba4"
      }
     },
     "bb3c4aedacf14e3bb245c21c3e954637": {
      "model_module": "@jupyter-widgets/controls",
      "model_module_version": "1.2.0",
      "model_name": "VBoxModel",
      "state": {
       "_dom_classes": [
        "widget-interact"
       ],
       "children": [
        "IPY_MODEL_e2f8ca6a0e1b4ae79f0775597180c7b2",
        "IPY_MODEL_28bf051e84a34c8ba5d6ed430511d918",
        "IPY_MODEL_046b255b44aa46b68db1d86494464fdb"
       ],
       "layout": "IPY_MODEL_139ac849b6994754a62fea06409fbff4"
      }
     },
     "bc827ac619f6401a98ee2e9a7b16a2a1": {
      "model_module": "@jupyter-widgets/base",
      "model_module_version": "1.0.0",
      "model_name": "LayoutModel",
      "state": {}
     },
     "be2acc30536a4ce89d1b3ada7842c649": {
      "model_module": "@jupyter-widgets/controls",
      "model_module_version": "1.2.0",
      "model_name": "IntSliderModel",
      "state": {
       "description": "q",
       "layout": "IPY_MODEL_4538f7d80eea4bd0a39112755c4e7ad7",
       "step": 5,
       "style": "IPY_MODEL_2af0743387e145c2b55ecb338138eeee",
       "value": 100
      }
     },
     "bfe656c0b3284034b48b664db1409d4f": {
      "model_module": "@jupyter-widgets/base",
      "model_module_version": "1.0.0",
      "model_name": "LayoutModel",
      "state": {}
     },
     "bfee1bcc08f9480ea88597e1499aa790": {
      "model_module": "@jupyter-widgets/base",
      "model_module_version": "1.0.0",
      "model_name": "LayoutModel",
      "state": {}
     },
     "c10e3021fe7b4052a1f4378473feefc1": {
      "model_module": "@jupyter-widgets/base",
      "model_module_version": "1.0.0",
      "model_name": "LayoutModel",
      "state": {}
     },
     "c1c5f31a178d4971acee94ee115e2abf": {
      "model_module": "@jupyter-widgets/controls",
      "model_module_version": "1.2.0",
      "model_name": "SliderStyleModel",
      "state": {
       "description_width": ""
      }
     },
     "c2b5375a68a3419eb0041203fe1b37f9": {
      "model_module": "@jupyter-widgets/controls",
      "model_module_version": "1.2.0",
      "model_name": "SliderStyleModel",
      "state": {
       "description_width": ""
      }
     },
     "c3019639b5ef4be58b635c53d0beff09": {
      "model_module": "@jupyter-widgets/base",
      "model_module_version": "1.0.0",
      "model_name": "LayoutModel",
      "state": {}
     },
     "c4e81b094f064d0bb591d3ae7d908447": {
      "model_module": "@jupyter-widgets/controls",
      "model_module_version": "1.2.0",
      "model_name": "SliderStyleModel",
      "state": {
       "description_width": ""
      }
     },
     "c64e42d92fc94c59a194ce2997c711a2": {
      "model_module": "@jupyter-widgets/controls",
      "model_module_version": "1.2.0",
      "model_name": "SliderStyleModel",
      "state": {
       "description_width": ""
      }
     },
     "c687f11ab6344cf49dfe3e07e9c520ad": {
      "model_module": "@jupyter-widgets/controls",
      "model_module_version": "1.2.0",
      "model_name": "SliderStyleModel",
      "state": {
       "description_width": ""
      }
     },
     "c86270233eca404698863a64becaa92b": {
      "model_module": "@jupyter-widgets/controls",
      "model_module_version": "1.2.0",
      "model_name": "SliderStyleModel",
      "state": {
       "description_width": ""
      }
     },
     "ca48074276774fc19f91fc03ab306113": {
      "model_module": "@jupyter-widgets/controls",
      "model_module_version": "1.2.0",
      "model_name": "VBoxModel",
      "state": {
       "_dom_classes": [
        "widget-interact"
       ],
       "children": [
        "IPY_MODEL_b257701db71144bc842dc1e9cde9a49d",
        "IPY_MODEL_fba9d1b71ac1485b9cc806ff044237cc"
       ],
       "layout": "IPY_MODEL_ff312b5e32004b62a7035a808bdd1895"
      }
     },
     "caf402c508f64d2ca7220033106bf000": {
      "model_module": "@jupyter-widgets/output",
      "model_module_version": "1.0.0",
      "model_name": "OutputModel",
      "state": {
       "layout": "IPY_MODEL_fa57473024314da1b55024727d693951",
       "outputs": [
        {
         "data": {
          "text/plain": "1.0"
         },
         "metadata": {},
         "output_type": "display_data"
        }
       ]
      }
     },
     "cb24aa3700834618aee6020c7163eba4": {
      "model_module": "@jupyter-widgets/base",
      "model_module_version": "1.0.0",
      "model_name": "LayoutModel",
      "state": {}
     },
     "cb3bf30c5f6049b9a1dacbb1a8cf4b96": {
      "model_module": "@jupyter-widgets/base",
      "model_module_version": "1.0.0",
      "model_name": "LayoutModel",
      "state": {}
     },
     "cb490b07fe2b42379dc04a7d809cca5d": {
      "model_module": "@jupyter-widgets/controls",
      "model_module_version": "1.2.0",
      "model_name": "VBoxModel",
      "state": {
       "_dom_classes": [
        "widget-interact"
       ],
       "children": [
        "IPY_MODEL_4fa941a7632f4712b32818eeff72d672",
        "IPY_MODEL_b271cc0f3c35446c828b9af81133a767"
       ],
       "layout": "IPY_MODEL_1d6c66b8bc474d9698c025b47a8a5466"
      }
     },
     "cb68a6dfe07f4014aabb44d997ce88e6": {
      "model_module": "@jupyter-widgets/base",
      "model_module_version": "1.0.0",
      "model_name": "LayoutModel",
      "state": {}
     },
     "cd378cace3c346f49a4038faf72ee8bd": {
      "model_module": "@jupyter-widgets/base",
      "model_module_version": "1.0.0",
      "model_name": "LayoutModel",
      "state": {}
     },
     "d0b6aee520b346c0a6b5865f069f94de": {
      "model_module": "@jupyter-widgets/controls",
      "model_module_version": "1.2.0",
      "model_name": "SliderStyleModel",
      "state": {
       "description_width": ""
      }
     },
     "d238ad7029e44ce2acc8a71d85709a1c": {
      "model_module": "@jupyter-widgets/controls",
      "model_module_version": "1.2.0",
      "model_name": "FloatSliderModel",
      "state": {
       "description": "q",
       "layout": "IPY_MODEL_55cc3213e1234e7f869054117cea982d",
       "max": 1,
       "step": 0.05,
       "style": "IPY_MODEL_c1c5f31a178d4971acee94ee115e2abf",
       "value": 0.95
      }
     },
     "d285ccc606784fd0b852d0091f4e2fa0": {
      "model_module": "@jupyter-widgets/output",
      "model_module_version": "1.0.0",
      "model_name": "OutputModel",
      "state": {
       "layout": "IPY_MODEL_159c1ba4d11b46529edcb3c47de9a441"
      }
     },
     "d45bffefda9c41c4ac731516d639c83a": {
      "model_module": "@jupyter-widgets/controls",
      "model_module_version": "1.2.0",
      "model_name": "SliderStyleModel",
      "state": {
       "description_width": ""
      }
     },
     "d58d6552bfd74e9499c745695e682f00": {
      "model_module": "@jupyter-widgets/controls",
      "model_module_version": "1.2.0",
      "model_name": "IntSliderModel",
      "state": {
       "description": "q",
       "layout": "IPY_MODEL_dac01da5fe764384a8d01ee864b517e9",
       "step": 5,
       "style": "IPY_MODEL_99cf0a3162db4c2da52bdf3cf2528fcb",
       "value": 90
      }
     },
     "d63fb80097394a0ab6d0274c50d46407": {
      "model_module": "@jupyter-widgets/base",
      "model_module_version": "1.0.0",
      "model_name": "LayoutModel",
      "state": {}
     },
     "da2bb213df294078a5791ad0d09d20b4": {
      "model_module": "@jupyter-widgets/base",
      "model_module_version": "1.0.0",
      "model_name": "LayoutModel",
      "state": {}
     },
     "da9cb1e66dc24f69aa3238f1daca83e8": {
      "model_module": "@jupyter-widgets/output",
      "model_module_version": "1.0.0",
      "model_name": "OutputModel",
      "state": {
       "layout": "IPY_MODEL_5afa35f1bfcb43f29481bbba7ba90178"
      }
     },
     "dac01da5fe764384a8d01ee864b517e9": {
      "model_module": "@jupyter-widgets/base",
      "model_module_version": "1.0.0",
      "model_name": "LayoutModel",
      "state": {}
     },
     "db74ee2e2e0f46959925088c1f6d3014": {
      "model_module": "@jupyter-widgets/output",
      "model_module_version": "1.0.0",
      "model_name": "OutputModel",
      "state": {
       "layout": "IPY_MODEL_9cdfa0a87e1447b5b76902727edab29f"
      }
     },
     "dd872326393d4b2398d41263d5f1ea85": {
      "model_module": "@jupyter-widgets/controls",
      "model_module_version": "1.2.0",
      "model_name": "SliderStyleModel",
      "state": {
       "description_width": ""
      }
     },
     "dfc50128dc64416b86850a6b4c2e3242": {
      "model_module": "@jupyter-widgets/controls",
      "model_module_version": "1.2.0",
      "model_name": "VBoxModel",
      "state": {
       "_dom_classes": [
        "widget-interact"
       ],
       "children": [
        "IPY_MODEL_1008b64330c54c1882f6235bb15239b1",
        "IPY_MODEL_caf402c508f64d2ca7220033106bf000"
       ],
       "layout": "IPY_MODEL_6520fa5d73ca49d19a1d5cc5cffa82f6"
      }
     },
     "dff65396ca524040be4bba255ca79752": {
      "model_module": "@jupyter-widgets/output",
      "model_module_version": "1.0.0",
      "model_name": "OutputModel",
      "state": {
       "layout": "IPY_MODEL_b2e86a6de0dd42d184d392d0199ebd9e",
       "outputs": [
        {
         "data": {
          "text/plain": "0.5"
         },
         "metadata": {},
         "output_type": "display_data"
        }
       ]
      }
     },
     "e16adc48a22f4492bdfa0b227d171acf": {
      "model_module": "@jupyter-widgets/controls",
      "model_module_version": "1.2.0",
      "model_name": "FloatSliderModel",
      "state": {
       "description": "q",
       "layout": "IPY_MODEL_b8103754598d40a38f9dd3f63dc8d7d3",
       "max": 1,
       "step": 0.05,
       "style": "IPY_MODEL_05069b24441146d39563364b60defa4c",
       "value": 0.9
      }
     },
     "e186324b0d174b2d9e90fb4ce1edf0d6": {
      "model_module": "@jupyter-widgets/controls",
      "model_module_version": "1.2.0",
      "model_name": "FloatSliderModel",
      "state": {
       "description": "q",
       "layout": "IPY_MODEL_269d723d27424693a99ec4114090d30b",
       "max": 1.5,
       "min": -0.5,
       "step": 0.1,
       "style": "IPY_MODEL_6a77a6025f65478695caf8a6ce14a821",
       "value": 0.5
      }
     },
     "e2c1a308db2d4c00bd6fd3608db5d28b": {
      "model_module": "@jupyter-widgets/base",
      "model_module_version": "1.0.0",
      "model_name": "LayoutModel",
      "state": {}
     },
     "e2f8ca6a0e1b4ae79f0775597180c7b2": {
      "model_module": "@jupyter-widgets/controls",
      "model_module_version": "1.2.0",
      "model_name": "FloatSliderModel",
      "state": {
       "description": "q",
       "layout": "IPY_MODEL_e8051091f6ec4074b7974a17fcaebd55",
       "max": 1,
       "step": 0.05,
       "style": "IPY_MODEL_c687f11ab6344cf49dfe3e07e9c520ad",
       "value": 0.8
      }
     },
     "e3046eca43134061b2b5002884631aec": {
      "model_module": "@jupyter-widgets/controls",
      "model_module_version": "1.2.0",
      "model_name": "VBoxModel",
      "state": {
       "_dom_classes": [
        "widget-interact"
       ],
       "children": [
        "IPY_MODEL_e186324b0d174b2d9e90fb4ce1edf0d6",
        "IPY_MODEL_7a38bbe13c9d487580511cf3ea099943"
       ],
       "layout": "IPY_MODEL_c3019639b5ef4be58b635c53d0beff09"
      }
     },
     "e40c8836bf5a4807b5c3cec049866420": {
      "model_module": "@jupyter-widgets/controls",
      "model_module_version": "1.2.0",
      "model_name": "FloatSliderModel",
      "state": {
       "description": "q",
       "layout": "IPY_MODEL_eee659bd0ca14bfca430b7654c9d494d",
       "max": 1,
       "step": 0.05,
       "style": "IPY_MODEL_5e3b7cc2e67748ad97acdc7fd938e74e",
       "value": 0.8
      }
     },
     "e4ffe67778c241d4abfc2b7ce5338c30": {
      "model_module": "@jupyter-widgets/base",
      "model_module_version": "1.0.0",
      "model_name": "LayoutModel",
      "state": {}
     },
     "e628b2a0ba134d47b3cc2a56dbcd6217": {
      "model_module": "@jupyter-widgets/base",
      "model_module_version": "1.0.0",
      "model_name": "LayoutModel",
      "state": {}
     },
     "e8051091f6ec4074b7974a17fcaebd55": {
      "model_module": "@jupyter-widgets/base",
      "model_module_version": "1.0.0",
      "model_name": "LayoutModel",
      "state": {}
     },
     "e8495ff3a1af45bcb39af10b0949fb91": {
      "model_module": "@jupyter-widgets/controls",
      "model_module_version": "1.2.0",
      "model_name": "FloatSliderModel",
      "state": {
       "description": "q",
       "layout": "IPY_MODEL_a63a847bcff740709d01a9e7292a8915",
       "max": 1,
       "step": 0.05,
       "style": "IPY_MODEL_2b57a2a4f1a64530a518c1a1f6154087",
       "value": 0.65
      }
     },
     "e91591213dcd405880b0b4eb86992a40": {
      "model_module": "@jupyter-widgets/controls",
      "model_module_version": "1.2.0",
      "model_name": "VBoxModel",
      "state": {
       "_dom_classes": [
        "widget-interact"
       ],
       "children": [
        "IPY_MODEL_5b06f0f6ebed4d829639ea448e376e0c",
        "IPY_MODEL_606953c90f104ad0a61ffc777b735a92"
       ],
       "layout": "IPY_MODEL_f6760381ac9049729c3153601edb8d04"
      }
     },
     "e918b1a7ecfc4efaa07a8b27630bab2f": {
      "model_module": "@jupyter-widgets/base",
      "model_module_version": "1.0.0",
      "model_name": "LayoutModel",
      "state": {}
     },
     "e9fdf50e711b463b89f94adfb689768a": {
      "model_module": "@jupyter-widgets/controls",
      "model_module_version": "1.2.0",
      "model_name": "VBoxModel",
      "state": {
       "_dom_classes": [
        "widget-interact"
       ],
       "children": [
        "IPY_MODEL_8f7bb229d3f24249a2c87a7b124d1f6e",
        "IPY_MODEL_4d3d36c9f7df412f902518831cf888ba"
       ],
       "layout": "IPY_MODEL_8c1c6e6498eb4783ab1a8d6d1b5e83ea"
      }
     },
     "eee659bd0ca14bfca430b7654c9d494d": {
      "model_module": "@jupyter-widgets/base",
      "model_module_version": "1.0.0",
      "model_name": "LayoutModel",
      "state": {}
     },
     "ef35fc27341141d3a27abd46c673e273": {
      "model_module": "@jupyter-widgets/controls",
      "model_module_version": "1.2.0",
      "model_name": "VBoxModel",
      "state": {
       "_dom_classes": [
        "widget-interact"
       ],
       "children": [
        "IPY_MODEL_530bb57d84454b1285af9d142ca46486",
        "IPY_MODEL_f28204d3101d4503be82ce6e445ba7c0"
       ],
       "layout": "IPY_MODEL_00db3a27d3904b14ae89162a5855dfca"
      }
     },
     "effdfd873acb4883a92243ca87a16141": {
      "model_module": "@jupyter-widgets/base",
      "model_module_version": "1.0.0",
      "model_name": "LayoutModel",
      "state": {}
     },
     "f053c367549047298e02076a2cd5f5dc": {
      "model_module": "@jupyter-widgets/base",
      "model_module_version": "1.0.0",
      "model_name": "LayoutModel",
      "state": {}
     },
     "f28204d3101d4503be82ce6e445ba7c0": {
      "model_module": "@jupyter-widgets/output",
      "model_module_version": "1.0.0",
      "model_name": "OutputModel",
      "state": {
       "layout": "IPY_MODEL_fa19b435609f48ada10f11246c1515ba"
      }
     },
     "f3f264042560495e8058c270b257a53a": {
      "model_module": "@jupyter-widgets/controls",
      "model_module_version": "1.2.0",
      "model_name": "VBoxModel",
      "state": {
       "_dom_classes": [
        "widget-interact"
       ],
       "layout": "IPY_MODEL_76de1f53a7e74ac2ade2dbb1d4fd89e6"
      }
     },
     "f4e9a4962f484542b744d48663848d7a": {
      "model_module": "@jupyter-widgets/base",
      "model_module_version": "1.0.0",
      "model_name": "LayoutModel",
      "state": {}
     },
     "f6760381ac9049729c3153601edb8d04": {
      "model_module": "@jupyter-widgets/base",
      "model_module_version": "1.0.0",
      "model_name": "LayoutModel",
      "state": {}
     },
     "f754d3a67f4245788afc6cc1d8cbdb74": {
      "model_module": "@jupyter-widgets/output",
      "model_module_version": "1.0.0",
      "model_name": "OutputModel",
      "state": {
       "layout": "IPY_MODEL_4f01c403ec414ad98c05f7a6a2730607",
       "outputs": [
        {
         "data": {
          "text/plain": "0.4"
         },
         "metadata": {},
         "output_type": "display_data"
        }
       ]
      }
     },
     "f8b6dcc35d8945bf86d6b3677fb7598d": {
      "model_module": "@jupyter-widgets/base",
      "model_module_version": "1.0.0",
      "model_name": "LayoutModel",
      "state": {}
     },
     "f96e31fc42034979b81783ce3c2c2b54": {
      "model_module": "@jupyter-widgets/base",
      "model_module_version": "1.0.0",
      "model_name": "LayoutModel",
      "state": {}
     },
     "f9e4e9273fab4bd586267da75d5678ec": {
      "model_module": "@jupyter-widgets/controls",
      "model_module_version": "1.2.0",
      "model_name": "ButtonStyleModel",
      "state": {}
     },
     "fa19b435609f48ada10f11246c1515ba": {
      "model_module": "@jupyter-widgets/base",
      "model_module_version": "1.0.0",
      "model_name": "LayoutModel",
      "state": {}
     },
     "fa57473024314da1b55024727d693951": {
      "model_module": "@jupyter-widgets/base",
      "model_module_version": "1.0.0",
      "model_name": "LayoutModel",
      "state": {}
     },
     "fb216c4a76df438fbb6f8ceb40aa08dc": {
      "model_module": "@jupyter-widgets/base",
      "model_module_version": "1.0.0",
      "model_name": "LayoutModel",
      "state": {}
     },
     "fba9d1b71ac1485b9cc806ff044237cc": {
      "model_module": "@jupyter-widgets/output",
      "model_module_version": "1.0.0",
      "model_name": "OutputModel",
      "state": {
       "layout": "IPY_MODEL_51bfeb334b9148589e82a02509df0788"
      }
     },
     "fbf4e0625d2e496588f444d4e8741cf7": {
      "model_module": "@jupyter-widgets/controls",
      "model_module_version": "1.2.0",
      "model_name": "SliderStyleModel",
      "state": {
       "description_width": ""
      }
     },
     "fd654049e465445887d30f3c1570c176": {
      "model_module": "@jupyter-widgets/controls",
      "model_module_version": "1.2.0",
      "model_name": "SliderStyleModel",
      "state": {
       "description_width": ""
      }
     },
     "ff312b5e32004b62a7035a808bdd1895": {
      "model_module": "@jupyter-widgets/base",
      "model_module_version": "1.0.0",
      "model_name": "LayoutModel",
      "state": {}
     }
    },
    "version_major": 2,
    "version_minor": 0
   }
  }
 },
 "nbformat": 4,
 "nbformat_minor": 2
}
